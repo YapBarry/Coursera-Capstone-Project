{
 "cells": [
  {
   "cell_type": "markdown",
   "metadata": {},
   "source": [
    "**Module 9 Week 4 Assignment**"
   ]
  },
  {
   "cell_type": "markdown",
   "metadata": {},
   "source": [
    "**Question proposed**: In a city of your choice, if someone is looking to open a restaurant, where would you recommend that they open it? Similarly, if a contractor is trying to start their own business, where would you recommend that they setup their office?"
   ]
  },
  {
   "cell_type": "markdown",
   "metadata": {},
   "source": [
    "**A description of the problem and a discussion of the background. (15 marks)**\n",
    "\n",
    "The problem I am choosing to discuss would be where best to open a restaurant in the city of Paris.\n",
    "As we all know, the city is well known for food. There are many restaurants and competition for customers is very high.\n",
    "\n",
    "If the restaurant is opened at a location that is not ideal, it can severely impact the number of customers and revenue.\n",
    "Hence it is important to decide where best to set up your restaurant.\n",
    "In this assignment, I am going to use data to determine and recommend several ideal locations.\n",
    "\n",
    "Target audience: People intending to open restaurant in Paris area."
   ]
  },
  {
   "cell_type": "markdown",
   "metadata": {},
   "source": [
    "**A description of the data and how it will be used to solve the problem. (15 marks)**\n",
    "\n",
    "1) I am going to generate a cluster of all restaurants (using foursquare API) in the city of Paris and find out which area is ideally the least populated by restaurants and eateries.\n",
    "2) Data will be obtained from googleAPI on the coordinates of the center of Paris, France\n",
    "3) Further analysis will be done using folium to visualize the maps"
   ]
  },
  {
   "cell_type": "code",
   "execution_count": null,
   "metadata": {},
   "outputs": [],
   "source": []
  },
  {
   "cell_type": "code",
   "execution_count": null,
   "metadata": {},
   "outputs": [],
   "source": []
  }
 ],
 "metadata": {
  "kernelspec": {
   "display_name": "Python",
   "language": "python",
   "name": "conda-env-python-py"
  },
  "language_info": {
   "codemirror_mode": {
    "name": "ipython",
    "version": 3
   },
   "file_extension": ".py",
   "mimetype": "text/x-python",
   "name": "python",
   "nbconvert_exporter": "python",
   "pygments_lexer": "ipython3",
   "version": "3.6.7"
  }
 },
 "nbformat": 4,
 "nbformat_minor": 4
}
